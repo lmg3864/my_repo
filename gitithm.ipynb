{
 "cells": [
  {
   "cell_type": "code",
   "execution_count": null,
   "metadata": {},
   "outputs": [],
   "source": []
  },
  {
   "attachments": {},
   "cell_type": "markdown",
   "metadata": {},
   "source": [
    "# gitugnore\n",
    "- 특정 파일 혹은 폴더에 대해 git이 버전 관리를 하지 못하도록 지정하는것\n",
    "\n",
    "1. 민감한 개인정보가 담긴파일(전화번로, 계죄번로, 비밀번호, api key)\n",
    "2. OS(운영체제)에서 활용되는 파일\n",
    "3. IDE(통합 개발 환경)에서 활용되는 파일\n",
    "4. 개발언어 또는 프레임워크에서 사용되는 파일\n",
    "\n",
    "## 사용방법\n",
    "\n",
    "- 반드시 이름이 .gitignore인 파일을 생성(파일 맨앞이 .이면 숨김파일 이라는 뜻)\n",
    "- .gitignore 파일은 .git 폴더와 동일한 위치에 생성한다.\n",
    "- 버전관리에서 제외하고 싶은 파일은 반드시 git add 하기전에 작성할것 (한번 버전관리의 대상이 되면 이후에 .gitignore에 작성하더라도 무시되지 않음)\n",
    "\n",
    "## 쉽게 작성하는 방법\n",
    "\n",
    "- .gitignore 파일의 내용을 쉽게 작성할 수 있도록 도와주는 사이트\n",
    " "
   ]
  }
 ],
 "metadata": {
  "kernelspec": {
   "display_name": "Python 3",
   "language": "python",
   "name": "python3"
  },
  "language_info": {
   "name": "python",
   "version": "3.8.6 (tags/v3.8.6:db45529, Sep 23 2020, 15:52:53) [MSC v.1927 64 bit (AMD64)]"
  },
  "orig_nbformat": 4,
  "vscode": {
   "interpreter": {
    "hash": "242a6f91fed8866d1b25b1edef3542af1d2f6e2ad837f192b445f77eeaad93fa"
   }
  }
 },
 "nbformat": 4,
 "nbformat_minor": 2
}
